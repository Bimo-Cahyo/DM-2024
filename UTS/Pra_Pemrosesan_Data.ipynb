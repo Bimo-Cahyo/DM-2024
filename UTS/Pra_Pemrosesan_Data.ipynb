{
 "cells": [
  {
   "cell_type": "code",
   "execution_count": 1,
   "id": "c0a6bc7d-6e2b-44f5-ab3a-9f6e9c914654",
   "metadata": {},
   "outputs": [
    {
     "data": {
      "text/html": [
       "<div>\n",
       "<style scoped>\n",
       "    .dataframe tbody tr th:only-of-type {\n",
       "        vertical-align: middle;\n",
       "    }\n",
       "\n",
       "    .dataframe tbody tr th {\n",
       "        vertical-align: top;\n",
       "    }\n",
       "\n",
       "    .dataframe thead th {\n",
       "        text-align: right;\n",
       "    }\n",
       "</style>\n",
       "<table border=\"1\" class=\"dataframe\">\n",
       "  <thead>\n",
       "    <tr style=\"text-align: right;\">\n",
       "      <th></th>\n",
       "      <th>Bulan</th>\n",
       "      <th>Penjualan</th>\n",
       "    </tr>\n",
       "  </thead>\n",
       "  <tbody>\n",
       "    <tr>\n",
       "      <th>0</th>\n",
       "      <td>2011-01</td>\n",
       "      <td>27619</td>\n",
       "    </tr>\n",
       "    <tr>\n",
       "      <th>1</th>\n",
       "      <td>2011-02</td>\n",
       "      <td>25532</td>\n",
       "    </tr>\n",
       "    <tr>\n",
       "      <th>2</th>\n",
       "      <td>2011-03</td>\n",
       "      <td>32275</td>\n",
       "    </tr>\n",
       "    <tr>\n",
       "      <th>3</th>\n",
       "      <td>2011-04</td>\n",
       "      <td>21128</td>\n",
       "    </tr>\n",
       "    <tr>\n",
       "      <th>4</th>\n",
       "      <td>2011-05</td>\n",
       "      <td>19554</td>\n",
       "    </tr>\n",
       "    <tr>\n",
       "      <th>...</th>\n",
       "      <td>...</td>\n",
       "      <td>...</td>\n",
       "    </tr>\n",
       "    <tr>\n",
       "      <th>144</th>\n",
       "      <td>2023-01</td>\n",
       "      <td>28970</td>\n",
       "    </tr>\n",
       "    <tr>\n",
       "      <th>145</th>\n",
       "      <td>2023-02</td>\n",
       "      <td>27336</td>\n",
       "    </tr>\n",
       "    <tr>\n",
       "      <th>146</th>\n",
       "      <td>2023-03</td>\n",
       "      <td>29471</td>\n",
       "    </tr>\n",
       "    <tr>\n",
       "      <th>147</th>\n",
       "      <td>2023-04</td>\n",
       "      <td>21518</td>\n",
       "    </tr>\n",
       "    <tr>\n",
       "      <th>148</th>\n",
       "      <td>2023-05</td>\n",
       "      <td>28178</td>\n",
       "    </tr>\n",
       "  </tbody>\n",
       "</table>\n",
       "<p>149 rows × 2 columns</p>\n",
       "</div>"
      ],
      "text/plain": [
       "       Bulan  Penjualan\n",
       "0    2011-01      27619\n",
       "1    2011-02      25532\n",
       "2    2011-03      32275\n",
       "3    2011-04      21128\n",
       "4    2011-05      19554\n",
       "..       ...        ...\n",
       "144  2023-01      28970\n",
       "145  2023-02      27336\n",
       "146  2023-03      29471\n",
       "147  2023-04      21518\n",
       "148  2023-05      28178\n",
       "\n",
       "[149 rows x 2 columns]"
      ]
     },
     "execution_count": 1,
     "metadata": {},
     "output_type": "execute_result"
    }
   ],
   "source": [
    "import numpy as np\n",
    "import matplotlib.pyplot as plt\n",
    "import pandas as pd\n",
    "import seaborn as sns\n",
    "from sklearn.impute import SimpleImputer\n",
    "# Memuat dataset\n",
    "data = pd.read_csv('penjualan_mobil_toyota.csv')\n",
    "data"
   ]
  },
  {
   "cell_type": "code",
   "execution_count": 2,
   "id": "cdf09aca-e855-4cf4-a6c4-94ac58cd0136",
   "metadata": {},
   "outputs": [
    {
     "name": "stdout",
     "output_type": "stream",
     "text": [
      "Informasi dataset:\n",
      "<class 'pandas.core.frame.DataFrame'>\n",
      "RangeIndex: 149 entries, 0 to 148\n",
      "Data columns (total 2 columns):\n",
      " #   Column     Non-Null Count  Dtype \n",
      "---  ------     --------------  ----- \n",
      " 0   Bulan      149 non-null    object\n",
      " 1   Penjualan  149 non-null    int64 \n",
      "dtypes: int64(1), object(1)\n",
      "memory usage: 2.5+ KB\n"
     ]
    }
   ],
   "source": [
    "# Menampilkan informasi dasar dataset\n",
    "print(\"Informasi dataset:\")\n",
    "data.info()"
   ]
  },
  {
   "cell_type": "code",
   "execution_count": 3,
   "id": "37ac7e3b-3a81-4a97-aea9-a8a631dd1a83",
   "metadata": {},
   "outputs": [
    {
     "name": "stdout",
     "output_type": "stream",
     "text": [
      "\n",
      "Jumlah nilai yang hilang di setiap kolom:\n",
      "Bulan        0\n",
      "Penjualan    0\n",
      "dtype: int64\n"
     ]
    }
   ],
   "source": [
    "# Memeriksa nilai yang hilang di setiap kolom\n",
    "print(\"\\nJumlah nilai yang hilang di setiap kolom:\")\n",
    "print(data.isnull().sum())"
   ]
  },
  {
   "cell_type": "code",
   "execution_count": 4,
   "id": "e0e098ae-d3ee-4cd5-9b6c-78c1f75a98dc",
   "metadata": {},
   "outputs": [
    {
     "name": "stdout",
     "output_type": "stream",
     "text": [
      "\n",
      "Lima baris pertama dataset:\n",
      "     Bulan  Penjualan\n",
      "0  2011-01      27619\n",
      "1  2011-02      25532\n",
      "2  2011-03      32275\n",
      "3  2011-04      21128\n",
      "4  2011-05      19554\n",
      "\n",
      "Lima baris terakhir dataset:\n",
      "       Bulan  Penjualan\n",
      "144  2023-01      28970\n",
      "145  2023-02      27336\n",
      "146  2023-03      29471\n",
      "147  2023-04      21518\n",
      "148  2023-05      28178\n"
     ]
    }
   ],
   "source": [
    "# Menampilkan lima baris pertama dari dataset\n",
    "print(\"\\nLima baris pertama dataset:\")\n",
    "print(data.head())\n",
    "\n",
    "# Menampilkan lima baris terakhir dari dataset\n",
    "print(\"\\nLima baris terakhir dataset:\")\n",
    "print(data.tail())"
   ]
  },
  {
   "cell_type": "code",
   "execution_count": 6,
   "id": "a1b8c05f-d26d-4179-88cc-12ac662273cd",
   "metadata": {},
   "outputs": [
    {
     "name": "stdout",
     "output_type": "stream",
     "text": [
      "\n",
      "Deskripsi statistik kolom Penjualan:\n",
      "count      149.000000\n",
      "mean     28402.845638\n",
      "std       7579.399557\n",
      "min        695.000000\n",
      "25%      25081.000000\n",
      "50%      29362.000000\n",
      "75%      33344.000000\n",
      "max      40781.000000\n",
      "Name: Penjualan, dtype: float64\n"
     ]
    }
   ],
   "source": [
    "# Menampilkan deskripsi statistik dari kolom 'Penjualan'\n",
    "print(\"\\nDeskripsi statistik kolom Penjualan:\")\n",
    "print(data['Penjualan'].describe())"
   ]
  },
  {
   "cell_type": "code",
   "execution_count": 7,
   "id": "d0fcb03e-40e3-4977-90dc-4e03f66bc192",
   "metadata": {},
   "outputs": [],
   "source": [
    "# Menangani nilai yang hilang di kolom 'Penjualan' dengan imputasi rata-rata\n",
    "data['Penjualan'] = data['Penjualan'].fillna(data['Penjualan'].mean())"
   ]
  },
  {
   "cell_type": "code",
   "execution_count": null,
   "id": "a4a18971-0cf0-4c7f-8315-84991a84b321",
   "metadata": {},
   "outputs": [],
   "source": []
  }
 ],
 "metadata": {
  "kernelspec": {
   "display_name": "Python 3 (ipykernel)",
   "language": "python",
   "name": "python3"
  },
  "language_info": {
   "codemirror_mode": {
    "name": "ipython",
    "version": 3
   },
   "file_extension": ".py",
   "mimetype": "text/x-python",
   "name": "python",
   "nbconvert_exporter": "python",
   "pygments_lexer": "ipython3",
   "version": "3.12.4"
  }
 },
 "nbformat": 4,
 "nbformat_minor": 5
}
